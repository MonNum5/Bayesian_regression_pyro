{
 "nbformat": 4,
 "nbformat_minor": 2,
 "metadata": {
  "language_info": {
   "name": "python",
   "codemirror_mode": {
    "name": "ipython",
    "version": 3
   },
   "version": "3.8.2-final"
  },
  "orig_nbformat": 2,
  "file_extension": ".py",
  "mimetype": "text/x-python",
  "name": "python",
  "npconvert_exporter": "python",
  "pygments_lexer": "ipython3",
  "version": 3,
  "kernelspec": {
   "name": "python38264bitbayesianregressionpyroconda88e515bc68db4c32b2c5f26aa0a332b2",
   "display_name": "Python 3.8.2 64-bit ('bayesian_regression_pyro': conda)"
  }
 },
 "cells": [
  {
   "cell_type": "markdown",
   "metadata": {},
   "source": [
    "# Example use of Bayesian Regression using MCMC and SVI"
   ]
  },
  {
   "cell_type": "code",
   "execution_count": 1,
   "metadata": {},
   "outputs": [
    {
     "output_type": "display_data",
     "data": {
      "application/vnd.plotly.v1+json": {
       "config": {
        "plotlyServerURL": "https://plot.ly"
       },
       "data": [
        {
         "mode": "markers",
         "name": "Function to Predict",
         "type": "scatter",
         "x": [
          7.045881271362305,
          6.507840156555176,
          6.226367473602295,
          2.834806203842163,
          8.221978187561035,
          6.289544582366943,
          8.514021873474121,
          8.495339393615723,
          5.151663303375244,
          4.32982063293457,
          9.395456314086914,
          3.3722736835479736,
          7.512240886688232,
          2.7792303562164307,
          0.1151786521077156,
          8.12053108215332,
          7.082788944244385,
          0.27695274353027344,
          1.5109837055206299,
          9.291450500488281,
          7.896895885467529,
          3.964726686477661,
          7.106568813323975,
          4.8393168449401855,
          9.24763298034668,
          3.537299871444702,
          4.16121244430542,
          8.031590461730957,
          5.361609935760498,
          1.0910230875015259,
          5.8964433670043945,
          5.0048909187316895,
          0.7187596559524536,
          5.4712066650390625,
          1.5078564882278442,
          7.315586090087891,
          6.732180118560791,
          2.7793354988098145,
          9.58629035949707,
          4.238765716552734,
          9.785319328308105,
          6.493322849273682,
          0.7160430550575256,
          5.717565059661865,
          8.615300178527832,
          7.9927287101745605,
          5.329708576202393,
          3.8984832763671875,
          9.49423885345459,
          9.823485374450684,
          5.304249286651611,
          8.530706405639648,
          6.255331039428711,
          8.502300262451172,
          2.3732848167419434,
          7.111527442932129,
          0.6112335324287415,
          4.918305397033691,
          7.2164483070373535,
          7.089665412902832,
          7.692603588104248,
          0.8125311136245728,
          7.072570323944092,
          9.55480670928955,
          8.386353492736816,
          9.081289291381836,
          5.532057285308838,
          0.6358820199966431,
          5.344557285308838,
          7.50494384765625,
          3.2906296253204346,
          2.4640395641326904,
          6.570032119750977,
          5.929067134857178,
          4.297102928161621,
          1.5622403621673584,
          1.6015632152557373,
          7.000255107879639,
          1.2622511386871338,
          3.451641798019409,
          4.024511337280273,
          2.8269941806793213,
          5.319617748260498,
          2.759425640106201,
          1.9905483722686768,
          6.231715202331543,
          1.3121225833892822,
          0.11785668134689331,
          0.45282524824142456,
          0.08255375921726227,
          0.12520065903663635,
          7.522867679595947,
          2.9343667030334473,
          2.391554832458496,
          5.807327747344971,
          6.017213344573975,
          8.383540153503418,
          6.555976390838623,
          0.03638359531760216,
          7.061653137207031
         ],
         "y": [
          14.546279907226562,
          11.65090274810791,
          12.602224349975586,
          6.330747604370117,
          18.182371139526367,
          12.206679344177246,
          19.227296829223633,
          14.287833213806152,
          7.71031379699707,
          6.807241439819336,
          24.20094871520996,
          5.301260948181152,
          14.40340805053711,
          4.571756839752197,
          2.326434850692749,
          17.351940155029297,
          12.296976089477539,
          -0.20817770063877106,
          3.581524133682251,
          20.157791137695312,
          17.218090057373047,
          8.854732513427734,
          15.20033073425293,
          8.722156524658203,
          18.187959671020508,
          8.314902305603027,
          9.86445140838623,
          11.628058433532715,
          14.177027702331543,
          2.745234966278076,
          13.106517791748047,
          14.347695350646973,
          -2.923900842666626,
          14.052546501159668,
          0.3647414445877075,
          14.521017074584961,
          13.509053230285645,
          4.408059120178223,
          19.695037841796875,
          10.559825897216797,
          19.16465950012207,
          10.694131851196289,
          -2.3016135692596436,
          9.141148567199707,
          14.558778762817383,
          16.421796798706055,
          11.305034637451172,
          10.28718376159668,
          19.2147216796875,
          18.085718154907227,
          11.997697830200195,
          19.42473793029785,
          10.88063907623291,
          16.76171875,
          3.9937663078308105,
          12.62303352355957,
          0.3462248742580414,
          11.829373359680176,
          14.904470443725586,
          17.361146926879883,
          15.449238777160645,
          4.1972270011901855,
          11.401503562927246,
          20.301939010620117,
          13.195799827575684,
          20.190223693847656,
          10.765388488769531,
          3.124316692352295,
          10.537145614624023,
          15.957067489624023,
          6.47098445892334,
          6.371922969818115,
          14.638299942016602,
          11.084565162658691,
          7.982593059539795,
          1.7355815172195435,
          5.008964538574219,
          13.837797164916992,
          3.620931625366211,
          4.564650058746338,
          6.479186058044434,
          5.553945064544678,
          11.104240417480469,
          5.898265838623047,
          9.55966567993164,
          11.9102144241333,
          1.048114538192749,
          -0.3210180401802063,
          0.7383878231048584,
          4.529809474945068,
          -1.361276388168335,
          13.341497421264648,
          5.998167991638184,
          3.8706445693969727,
          11.17786693572998,
          11.074566841125488,
          21.260038375854492,
          13.352991104125977,
          2.763371467590332,
          14.106822967529297
         ]
        }
       ],
       "layout": {
        "height": 600,
        "template": {
         "data": {
          "bar": [
           {
            "error_x": {
             "color": "#2a3f5f"
            },
            "error_y": {
             "color": "#2a3f5f"
            },
            "marker": {
             "line": {
              "color": "white",
              "width": 0.5
             }
            },
            "type": "bar"
           }
          ],
          "barpolar": [
           {
            "marker": {
             "line": {
              "color": "white",
              "width": 0.5
             }
            },
            "type": "barpolar"
           }
          ],
          "carpet": [
           {
            "aaxis": {
             "endlinecolor": "#2a3f5f",
             "gridcolor": "#C8D4E3",
             "linecolor": "#C8D4E3",
             "minorgridcolor": "#C8D4E3",
             "startlinecolor": "#2a3f5f"
            },
            "baxis": {
             "endlinecolor": "#2a3f5f",
             "gridcolor": "#C8D4E3",
             "linecolor": "#C8D4E3",
             "minorgridcolor": "#C8D4E3",
             "startlinecolor": "#2a3f5f"
            },
            "type": "carpet"
           }
          ],
          "choropleth": [
           {
            "colorbar": {
             "outlinewidth": 0,
             "ticks": ""
            },
            "type": "choropleth"
           }
          ],
          "contour": [
           {
            "colorbar": {
             "outlinewidth": 0,
             "ticks": ""
            },
            "colorscale": [
             [
              0,
              "#0d0887"
             ],
             [
              0.1111111111111111,
              "#46039f"
             ],
             [
              0.2222222222222222,
              "#7201a8"
             ],
             [
              0.3333333333333333,
              "#9c179e"
             ],
             [
              0.4444444444444444,
              "#bd3786"
             ],
             [
              0.5555555555555556,
              "#d8576b"
             ],
             [
              0.6666666666666666,
              "#ed7953"
             ],
             [
              0.7777777777777778,
              "#fb9f3a"
             ],
             [
              0.8888888888888888,
              "#fdca26"
             ],
             [
              1,
              "#f0f921"
             ]
            ],
            "type": "contour"
           }
          ],
          "contourcarpet": [
           {
            "colorbar": {
             "outlinewidth": 0,
             "ticks": ""
            },
            "type": "contourcarpet"
           }
          ],
          "heatmap": [
           {
            "colorbar": {
             "outlinewidth": 0,
             "ticks": ""
            },
            "colorscale": [
             [
              0,
              "#0d0887"
             ],
             [
              0.1111111111111111,
              "#46039f"
             ],
             [
              0.2222222222222222,
              "#7201a8"
             ],
             [
              0.3333333333333333,
              "#9c179e"
             ],
             [
              0.4444444444444444,
              "#bd3786"
             ],
             [
              0.5555555555555556,
              "#d8576b"
             ],
             [
              0.6666666666666666,
              "#ed7953"
             ],
             [
              0.7777777777777778,
              "#fb9f3a"
             ],
             [
              0.8888888888888888,
              "#fdca26"
             ],
             [
              1,
              "#f0f921"
             ]
            ],
            "type": "heatmap"
           }
          ],
          "heatmapgl": [
           {
            "colorbar": {
             "outlinewidth": 0,
             "ticks": ""
            },
            "colorscale": [
             [
              0,
              "#0d0887"
             ],
             [
              0.1111111111111111,
              "#46039f"
             ],
             [
              0.2222222222222222,
              "#7201a8"
             ],
             [
              0.3333333333333333,
              "#9c179e"
             ],
             [
              0.4444444444444444,
              "#bd3786"
             ],
             [
              0.5555555555555556,
              "#d8576b"
             ],
             [
              0.6666666666666666,
              "#ed7953"
             ],
             [
              0.7777777777777778,
              "#fb9f3a"
             ],
             [
              0.8888888888888888,
              "#fdca26"
             ],
             [
              1,
              "#f0f921"
             ]
            ],
            "type": "heatmapgl"
           }
          ],
          "histogram": [
           {
            "marker": {
             "colorbar": {
              "outlinewidth": 0,
              "ticks": ""
             }
            },
            "type": "histogram"
           }
          ],
          "histogram2d": [
           {
            "colorbar": {
             "outlinewidth": 0,
             "ticks": ""
            },
            "colorscale": [
             [
              0,
              "#0d0887"
             ],
             [
              0.1111111111111111,
              "#46039f"
             ],
             [
              0.2222222222222222,
              "#7201a8"
             ],
             [
              0.3333333333333333,
              "#9c179e"
             ],
             [
              0.4444444444444444,
              "#bd3786"
             ],
             [
              0.5555555555555556,
              "#d8576b"
             ],
             [
              0.6666666666666666,
              "#ed7953"
             ],
             [
              0.7777777777777778,
              "#fb9f3a"
             ],
             [
              0.8888888888888888,
              "#fdca26"
             ],
             [
              1,
              "#f0f921"
             ]
            ],
            "type": "histogram2d"
           }
          ],
          "histogram2dcontour": [
           {
            "colorbar": {
             "outlinewidth": 0,
             "ticks": ""
            },
            "colorscale": [
             [
              0,
              "#0d0887"
             ],
             [
              0.1111111111111111,
              "#46039f"
             ],
             [
              0.2222222222222222,
              "#7201a8"
             ],
             [
              0.3333333333333333,
              "#9c179e"
             ],
             [
              0.4444444444444444,
              "#bd3786"
             ],
             [
              0.5555555555555556,
              "#d8576b"
             ],
             [
              0.6666666666666666,
              "#ed7953"
             ],
             [
              0.7777777777777778,
              "#fb9f3a"
             ],
             [
              0.8888888888888888,
              "#fdca26"
             ],
             [
              1,
              "#f0f921"
             ]
            ],
            "type": "histogram2dcontour"
           }
          ],
          "mesh3d": [
           {
            "colorbar": {
             "outlinewidth": 0,
             "ticks": ""
            },
            "type": "mesh3d"
           }
          ],
          "parcoords": [
           {
            "line": {
             "colorbar": {
              "outlinewidth": 0,
              "ticks": ""
             }
            },
            "type": "parcoords"
           }
          ],
          "pie": [
           {
            "automargin": true,
            "type": "pie"
           }
          ],
          "scatter": [
           {
            "marker": {
             "colorbar": {
              "outlinewidth": 0,
              "ticks": ""
             }
            },
            "type": "scatter"
           }
          ],
          "scatter3d": [
           {
            "line": {
             "colorbar": {
              "outlinewidth": 0,
              "ticks": ""
             }
            },
            "marker": {
             "colorbar": {
              "outlinewidth": 0,
              "ticks": ""
             }
            },
            "type": "scatter3d"
           }
          ],
          "scattercarpet": [
           {
            "marker": {
             "colorbar": {
              "outlinewidth": 0,
              "ticks": ""
             }
            },
            "type": "scattercarpet"
           }
          ],
          "scattergeo": [
           {
            "marker": {
             "colorbar": {
              "outlinewidth": 0,
              "ticks": ""
             }
            },
            "type": "scattergeo"
           }
          ],
          "scattergl": [
           {
            "marker": {
             "colorbar": {
              "outlinewidth": 0,
              "ticks": ""
             }
            },
            "type": "scattergl"
           }
          ],
          "scattermapbox": [
           {
            "marker": {
             "colorbar": {
              "outlinewidth": 0,
              "ticks": ""
             }
            },
            "type": "scattermapbox"
           }
          ],
          "scatterpolar": [
           {
            "marker": {
             "colorbar": {
              "outlinewidth": 0,
              "ticks": ""
             }
            },
            "type": "scatterpolar"
           }
          ],
          "scatterpolargl": [
           {
            "marker": {
             "colorbar": {
              "outlinewidth": 0,
              "ticks": ""
             }
            },
            "type": "scatterpolargl"
           }
          ],
          "scatterternary": [
           {
            "marker": {
             "colorbar": {
              "outlinewidth": 0,
              "ticks": ""
             }
            },
            "type": "scatterternary"
           }
          ],
          "surface": [
           {
            "colorbar": {
             "outlinewidth": 0,
             "ticks": ""
            },
            "colorscale": [
             [
              0,
              "#0d0887"
             ],
             [
              0.1111111111111111,
              "#46039f"
             ],
             [
              0.2222222222222222,
              "#7201a8"
             ],
             [
              0.3333333333333333,
              "#9c179e"
             ],
             [
              0.4444444444444444,
              "#bd3786"
             ],
             [
              0.5555555555555556,
              "#d8576b"
             ],
             [
              0.6666666666666666,
              "#ed7953"
             ],
             [
              0.7777777777777778,
              "#fb9f3a"
             ],
             [
              0.8888888888888888,
              "#fdca26"
             ],
             [
              1,
              "#f0f921"
             ]
            ],
            "type": "surface"
           }
          ],
          "table": [
           {
            "cells": {
             "fill": {
              "color": "#EBF0F8"
             },
             "line": {
              "color": "white"
             }
            },
            "header": {
             "fill": {
              "color": "#C8D4E3"
             },
             "line": {
              "color": "white"
             }
            },
            "type": "table"
           }
          ]
         },
         "layout": {
          "annotationdefaults": {
           "arrowcolor": "#2a3f5f",
           "arrowhead": 0,
           "arrowwidth": 1
          },
          "coloraxis": {
           "colorbar": {
            "outlinewidth": 0,
            "ticks": ""
           }
          },
          "colorscale": {
           "diverging": [
            [
             0,
             "#8e0152"
            ],
            [
             0.1,
             "#c51b7d"
            ],
            [
             0.2,
             "#de77ae"
            ],
            [
             0.3,
             "#f1b6da"
            ],
            [
             0.4,
             "#fde0ef"
            ],
            [
             0.5,
             "#f7f7f7"
            ],
            [
             0.6,
             "#e6f5d0"
            ],
            [
             0.7,
             "#b8e186"
            ],
            [
             0.8,
             "#7fbc41"
            ],
            [
             0.9,
             "#4d9221"
            ],
            [
             1,
             "#276419"
            ]
           ],
           "sequential": [
            [
             0,
             "#0d0887"
            ],
            [
             0.1111111111111111,
             "#46039f"
            ],
            [
             0.2222222222222222,
             "#7201a8"
            ],
            [
             0.3333333333333333,
             "#9c179e"
            ],
            [
             0.4444444444444444,
             "#bd3786"
            ],
            [
             0.5555555555555556,
             "#d8576b"
            ],
            [
             0.6666666666666666,
             "#ed7953"
            ],
            [
             0.7777777777777778,
             "#fb9f3a"
            ],
            [
             0.8888888888888888,
             "#fdca26"
            ],
            [
             1,
             "#f0f921"
            ]
           ],
           "sequentialminus": [
            [
             0,
             "#0d0887"
            ],
            [
             0.1111111111111111,
             "#46039f"
            ],
            [
             0.2222222222222222,
             "#7201a8"
            ],
            [
             0.3333333333333333,
             "#9c179e"
            ],
            [
             0.4444444444444444,
             "#bd3786"
            ],
            [
             0.5555555555555556,
             "#d8576b"
            ],
            [
             0.6666666666666666,
             "#ed7953"
            ],
            [
             0.7777777777777778,
             "#fb9f3a"
            ],
            [
             0.8888888888888888,
             "#fdca26"
            ],
            [
             1,
             "#f0f921"
            ]
           ]
          },
          "colorway": [
           "#636efa",
           "#EF553B",
           "#00cc96",
           "#ab63fa",
           "#FFA15A",
           "#19d3f3",
           "#FF6692",
           "#B6E880",
           "#FF97FF",
           "#FECB52"
          ],
          "font": {
           "color": "#2a3f5f"
          },
          "geo": {
           "bgcolor": "white",
           "lakecolor": "white",
           "landcolor": "white",
           "showlakes": true,
           "showland": true,
           "subunitcolor": "#C8D4E3"
          },
          "hoverlabel": {
           "align": "left"
          },
          "hovermode": "closest",
          "mapbox": {
           "style": "light"
          },
          "paper_bgcolor": "white",
          "plot_bgcolor": "white",
          "polar": {
           "angularaxis": {
            "gridcolor": "#EBF0F8",
            "linecolor": "#EBF0F8",
            "ticks": ""
           },
           "bgcolor": "white",
           "radialaxis": {
            "gridcolor": "#EBF0F8",
            "linecolor": "#EBF0F8",
            "ticks": ""
           }
          },
          "scene": {
           "xaxis": {
            "backgroundcolor": "white",
            "gridcolor": "#DFE8F3",
            "gridwidth": 2,
            "linecolor": "#EBF0F8",
            "showbackground": true,
            "ticks": "",
            "zerolinecolor": "#EBF0F8"
           },
           "yaxis": {
            "backgroundcolor": "white",
            "gridcolor": "#DFE8F3",
            "gridwidth": 2,
            "linecolor": "#EBF0F8",
            "showbackground": true,
            "ticks": "",
            "zerolinecolor": "#EBF0F8"
           },
           "zaxis": {
            "backgroundcolor": "white",
            "gridcolor": "#DFE8F3",
            "gridwidth": 2,
            "linecolor": "#EBF0F8",
            "showbackground": true,
            "ticks": "",
            "zerolinecolor": "#EBF0F8"
           }
          },
          "shapedefaults": {
           "line": {
            "color": "#2a3f5f"
           }
          },
          "ternary": {
           "aaxis": {
            "gridcolor": "#DFE8F3",
            "linecolor": "#A2B1C6",
            "ticks": ""
           },
           "baxis": {
            "gridcolor": "#DFE8F3",
            "linecolor": "#A2B1C6",
            "ticks": ""
           },
           "bgcolor": "white",
           "caxis": {
            "gridcolor": "#DFE8F3",
            "linecolor": "#A2B1C6",
            "ticks": ""
           }
          },
          "title": {
           "x": 0.05
          },
          "xaxis": {
           "automargin": true,
           "gridcolor": "#EBF0F8",
           "linecolor": "#EBF0F8",
           "ticks": "",
           "title": {
            "standoff": 15
           },
           "zerolinecolor": "#EBF0F8",
           "zerolinewidth": 2
          },
          "yaxis": {
           "automargin": true,
           "gridcolor": "#EBF0F8",
           "linecolor": "#EBF0F8",
           "ticks": "",
           "title": {
            "standoff": 15
           },
           "zerolinecolor": "#EBF0F8",
           "zerolinewidth": 2
          }
         }
        },
        "title": {
         "text": "1D Function to Predict"
        },
        "width": 800
       }
      }
     },
     "metadata": {}
    }
   ],
   "source": [
    "# Create 1D data for fit\n",
    "import numpy as np\n",
    "import plotly.graph_objects as go\n",
    "\n",
    "# 1D Function to predict\n",
    "def f(x):\n",
    "    return x + x\n",
    "\n",
    "#  First the noiseless case\n",
    "X = np.atleast_2d(np.random.uniform(0, 10.0, size=100)).T\n",
    "X = X.astype(np.float32)\n",
    "\n",
    "# Observations\n",
    "y = f(X).ravel()\n",
    "\n",
    "dy = 1.5 + 1.0 * np.random.random(y.shape)\n",
    "noise = np.random.normal(0, dy)\n",
    "y += noise\n",
    "y = y.reshape(-1,1).astype(np.float32)\n",
    "\n",
    "# Create random data with numpy\n",
    "import numpy as np\n",
    "np.random.seed(1)\n",
    "\n",
    "\n",
    "fig = go.Figure()\n",
    "\n",
    "# Add traces\n",
    "fig.add_trace(go.Scatter(x=X.flatten(), y=y.flatten(),\n",
    "                    mode='markers',\n",
    "                    name='Function to Predict'))\n",
    "fig.update_layout(title='1D Function to Predict',\n",
    "                  height=600,\n",
    "                  width=800,\n",
    "                  template=\"plotly_white\")\n",
    "\n",
    "fig.show()"
   ]
  },
  {
   "cell_type": "code",
   "execution_count": 25,
   "metadata": {},
   "outputs": [
    {
     "output_type": "stream",
     "name": "stderr",
     "text": "Sample: 100%|██████████| 600/600 [00:32, 18.54it/s, step size=5.79e-02, acc. prob=0.964]\nElbo loss: nan\nElbo loss: nan\nElbo loss: inf\nElbo loss: 29646.55834853649\nElbo loss: nan\nElbo loss: nan\nElbo loss: nan\nElbo loss: nan\nElbo loss: 94871.08241093159\nElbo loss: 35241.14662563801\n"
    }
   ],
   "source": [
    "# Define model prior\n",
    "\n",
    "from pyro.infer.autoguide import AutoDiagonalNormal, AutoNormal\n",
    "from pyro.infer import Predictive, SVI, Trace_ELBO\n",
    "import pyro\n",
    "import torch\n",
    "from torch.distributions import constraints\n",
    "import pyro.distributions as dist\n",
    "import pyro.optim as optim\n",
    "import sys\n",
    "import time\n",
    "from bayesian_regression_mcmc_svi import bay_reg_mcmc, bay_reg_svi\n",
    "\n",
    "def prior_model(T, y_obs=None):\n",
    "\n",
    "    # priors\n",
    "    w = pyro.sample('w', pyro.distributions.Normal(loc=1, scale=10))\n",
    "    b = pyro.sample('b', pyro.distributions.Normal(loc=1, scale=10))\n",
    "    \n",
    "    mean = w*T + b\n",
    "    \n",
    "    sigma=pyro.sample(\"sigma\",dist.Uniform(0.,10.))\n",
    "      \n",
    "    with pyro.plate(\"data\", len(T)):\n",
    "        obs=pyro.sample(\"obs\", dist.Normal(mean, sigma), obs=y_obs)\n",
    "    return mean\n",
    "\n",
    "# Initiate models, fit models, predict\n",
    "\n",
    "results_dict = {}\n",
    "\n",
    "#MCMC\n",
    "pyro.clear_param_store()\n",
    "start=time.time()\n",
    "bay_reg_mc=bay_reg_mcmc(prior_model, num_samples=500, warmup_steps=100)\n",
    "bay_reg_mc.fit(X,y, verbose=True)\n",
    "    \n",
    "X_test=np.linspace(0,10,11)\n",
    "y_conv,y_std_conv,y_pred,y_std_pred=bay_reg_mc.predict(X_test)\n",
    "end=round(time.time()-start,2)\n",
    "results_dict['MCMC']={'X_pred':X_test,'y_conv':y_conv,'y_std_conv':y_std_conv,'y_pred':y_pred,'y_std_pred':y_std_pred,'elapsed time':end}\n",
    "\n",
    "# SVI Model\n",
    "\n",
    "# Define SVI guide if desired\n",
    "# If SVI guide is not defined a guide autonormal guide is computed\n",
    "def custom_guide(T,test_y=None):\n",
    "    w_loc = pyro.param('w_loc', torch.tensor(1.))\n",
    "    w_scale = pyro.param('w_scale', torch.tensor(10.),\n",
    "                         constraint=constraints.positive)\n",
    "    b_loc = pyro.param('b_loc', torch.tensor(1.))\n",
    "    b_scale = pyro.param('b_scale', torch.tensor(10.),\n",
    "                         constraint=constraints.positive)\n",
    "    \n",
    "    sigma_loc = pyro.param('sigma_loc', torch.tensor(0.),\n",
    "                         constraint=constraints.positive)\n",
    "    sigma_scale = pyro.param('sigma_scale', torch.tensor(1.),\n",
    "                         constraint=constraints.positive)\n",
    "    \n",
    "    w = pyro.sample('w',dist.Normal(w_loc, w_scale))\n",
    "    b = pyro.sample('b',dist.Normal(b_loc, b_scale))\n",
    "    sigma=pyro.sample(\"sigma\",dist.Normal(sigma_loc, sigma_scale))\n",
    "    f_x = w*T + b\n",
    "    \n",
    "    return f_x\n",
    "\n",
    "pyro.clear_param_store()\n",
    "start=time.time()\n",
    "\n",
    "\n",
    "bay_reg_vi=bay_reg_svi(prior_model, guide=None, epochs=1000)\n",
    "bay_reg_vi.fit(X,y, verbose=True)\n",
    "    \n",
    "X_test=np.linspace(0,10,11)\n",
    "y_conv,y_std_conv,y_pred,y_std_pred=bay_reg_vi.predict(X_test)\n",
    "end=round(time.time()-start,2)\n",
    "\n",
    "results_dict['SVI']={'X_pred':X_test,'y_conv':y_conv,'y_std_conv':y_std_conv,'y_pred':y_pred,'y_std_pred':y_std_pred,'elapsed time':end}"
   ]
  },
  {
   "cell_type": "code",
   "execution_count": 26,
   "metadata": {},
   "outputs": [
    {
     "output_type": "display_data",
     "data": {
      "application/vnd.plotly.v1+json": {
       "config": {
        "plotlyServerURL": "https://plot.ly"
       },
       "data": [
        {
         "marker": {
          "color": "black"
         },
         "mode": "markers",
         "name": "Function to Predict",
         "type": "scatter",
         "x": [
          7.045881271362305,
          6.507840156555176,
          6.226367473602295,
          2.834806203842163,
          8.221978187561035,
          6.289544582366943,
          8.514021873474121,
          8.495339393615723,
          5.151663303375244,
          4.32982063293457,
          9.395456314086914,
          3.3722736835479736,
          7.512240886688232,
          2.7792303562164307,
          0.1151786521077156,
          8.12053108215332,
          7.082788944244385,
          0.27695274353027344,
          1.5109837055206299,
          9.291450500488281,
          7.896895885467529,
          3.964726686477661,
          7.106568813323975,
          4.8393168449401855,
          9.24763298034668,
          3.537299871444702,
          4.16121244430542,
          8.031590461730957,
          5.361609935760498,
          1.0910230875015259,
          5.8964433670043945,
          5.0048909187316895,
          0.7187596559524536,
          5.4712066650390625,
          1.5078564882278442,
          7.315586090087891,
          6.732180118560791,
          2.7793354988098145,
          9.58629035949707,
          4.238765716552734,
          9.785319328308105,
          6.493322849273682,
          0.7160430550575256,
          5.717565059661865,
          8.615300178527832,
          7.9927287101745605,
          5.329708576202393,
          3.8984832763671875,
          9.49423885345459,
          9.823485374450684,
          5.304249286651611,
          8.530706405639648,
          6.255331039428711,
          8.502300262451172,
          2.3732848167419434,
          7.111527442932129,
          0.6112335324287415,
          4.918305397033691,
          7.2164483070373535,
          7.089665412902832,
          7.692603588104248,
          0.8125311136245728,
          7.072570323944092,
          9.55480670928955,
          8.386353492736816,
          9.081289291381836,
          5.532057285308838,
          0.6358820199966431,
          5.344557285308838,
          7.50494384765625,
          3.2906296253204346,
          2.4640395641326904,
          6.570032119750977,
          5.929067134857178,
          4.297102928161621,
          1.5622403621673584,
          1.6015632152557373,
          7.000255107879639,
          1.2622511386871338,
          3.451641798019409,
          4.024511337280273,
          2.8269941806793213,
          5.319617748260498,
          2.759425640106201,
          1.9905483722686768,
          6.231715202331543,
          1.3121225833892822,
          0.11785668134689331,
          0.45282524824142456,
          0.08255375921726227,
          0.12520065903663635,
          7.522867679595947,
          2.9343667030334473,
          2.391554832458496,
          5.807327747344971,
          6.017213344573975,
          8.383540153503418,
          6.555976390838623,
          0.03638359531760216,
          7.061653137207031
         ],
         "y": [
          14.546279907226562,
          11.65090274810791,
          12.602224349975586,
          6.330747604370117,
          18.182371139526367,
          12.206679344177246,
          19.227296829223633,
          14.287833213806152,
          7.71031379699707,
          6.807241439819336,
          24.20094871520996,
          5.301260948181152,
          14.40340805053711,
          4.571756839752197,
          2.326434850692749,
          17.351940155029297,
          12.296976089477539,
          -0.20817770063877106,
          3.581524133682251,
          20.157791137695312,
          17.218090057373047,
          8.854732513427734,
          15.20033073425293,
          8.722156524658203,
          18.187959671020508,
          8.314902305603027,
          9.86445140838623,
          11.628058433532715,
          14.177027702331543,
          2.745234966278076,
          13.106517791748047,
          14.347695350646973,
          -2.923900842666626,
          14.052546501159668,
          0.3647414445877075,
          14.521017074584961,
          13.509053230285645,
          4.408059120178223,
          19.695037841796875,
          10.559825897216797,
          19.16465950012207,
          10.694131851196289,
          -2.3016135692596436,
          9.141148567199707,
          14.558778762817383,
          16.421796798706055,
          11.305034637451172,
          10.28718376159668,
          19.2147216796875,
          18.085718154907227,
          11.997697830200195,
          19.42473793029785,
          10.88063907623291,
          16.76171875,
          3.9937663078308105,
          12.62303352355957,
          0.3462248742580414,
          11.829373359680176,
          14.904470443725586,
          17.361146926879883,
          15.449238777160645,
          4.1972270011901855,
          11.401503562927246,
          20.301939010620117,
          13.195799827575684,
          20.190223693847656,
          10.765388488769531,
          3.124316692352295,
          10.537145614624023,
          15.957067489624023,
          6.47098445892334,
          6.371922969818115,
          14.638299942016602,
          11.084565162658691,
          7.982593059539795,
          1.7355815172195435,
          5.008964538574219,
          13.837797164916992,
          3.620931625366211,
          4.564650058746338,
          6.479186058044434,
          5.553945064544678,
          11.104240417480469,
          5.898265838623047,
          9.55966567993164,
          11.9102144241333,
          1.048114538192749,
          -0.3210180401802063,
          0.7383878231048584,
          4.529809474945068,
          -1.361276388168335,
          13.341497421264648,
          5.998167991638184,
          3.8706445693969727,
          11.17786693572998,
          11.074566841125488,
          21.260038375854492,
          13.352991104125977,
          2.763371467590332,
          14.106822967529297
         ]
        },
        {
         "marker": {
          "color": "rgba(0.8941176470588236,0.10196078431372549,0.10980392156862745,1.0)"
         },
         "mode": "lines",
         "name": "MCMC median 32.58",
         "type": "scatter",
         "x": [
          0,
          1,
          2,
          3,
          4,
          5,
          6,
          7,
          8,
          9,
          10
         ],
         "y": [
          0.11102799698710442,
          2.11771647259593,
          4.124384801834822,
          6.132291868329048,
          8.138480730354786,
          10.14595777541399,
          12.15176172927022,
          14.157669357955456,
          16.1652396209538,
          18.170769650489092,
          20.1773847527802
         ]
        },
        {
         "fillcolor": "rgba(0.8941176470588236,0.10196078431372549,0.10980392156862745,0.5)",
         "line": {
          "color": "rgba(0.8941176470588236,0.10196078431372549,0.10980392156862745,0.5)"
         },
         "mode": "lines",
         "name": "MCMC upper conv interval",
         "type": "scatter",
         "x": [
          0,
          1,
          2,
          3,
          4,
          5,
          6,
          7,
          8,
          9,
          10
         ],
         "y": [
          [
           0.17365538924932475
          ],
          [
           2.1722968377172944
          ],
          [
           4.171270149946213
          ],
          [
           6.170461829006672
          ],
          [
           8.173957116156817
          ],
          [
           10.176827995106578
          ],
          [
           12.187867073714733
          ],
          [
           14.201450615003706
          ],
          [
           16.216843193396926
          ],
          [
           18.232194320484993
          ],
          [
           20.248445833288134
          ]
         ]
        },
        {
         "fill": "tonexty",
         "fillcolor": "rgba(0.8941176470588236,0.10196078431372549,0.10980392156862745,0.5)",
         "line": {
          "color": "rgba(0.8941176470588236,0.10196078431372549,0.10980392156862745,0.5)"
         },
         "mode": "lines",
         "name": "MCMC lower conv interval",
         "type": "scatter",
         "x": [
          0,
          1,
          2,
          3,
          4,
          5,
          6,
          7,
          8,
          9,
          10
         ],
         "y": [
          [
           0.04678528588265181
          ],
          [
           2.0610501300543547
          ],
          [
           4.075134907662869
          ],
          [
           6.0885607995092865
          ],
          [
           8.100062892585992
          ],
          [
           10.110841504111885
          ],
          [
           12.115002726390957
          ],
          [
           14.116739968582987
          ],
          [
           16.11707092039287
          ],
          [
           18.114786210283636
          ],
          [
           20.115107762441042
          ]
         ]
        },
        {
         "fillcolor": "rgba(0.8941176470588236,0.10196078431372549,0.10980392156862745,0.3)",
         "line": {
          "color": "rgba(0.8941176470588236,0.10196078431372549,0.10980392156862745,0.3)"
         },
         "mode": "lines",
         "name": "MCMC upper pred interval",
         "type": "scatter",
         "x": [
          0,
          1,
          2,
          3,
          4,
          5,
          6,
          7,
          8,
          9,
          10
         ],
         "y": [
          3.3488594401284044,
          5.250678970867453,
          7.348600482227506,
          9.357830359829123,
          11.361218417030399,
          13.397431759427722,
          15.411790876019953,
          17.40504079209264,
          19.602146839408267,
          21.50920142473619,
          23.852578147818623
         ]
        },
        {
         "fill": "tonexty",
         "fillcolor": "rgba(0.8941176470588236,0.10196078431372549,0.10980392156862745,0.3)",
         "line": {
          "color": "rgba(0.8941176470588236,0.10196078431372549,0.10980392156862745,0.3)"
         },
         "mode": "lines",
         "name": "MCMC lower pred interval",
         "type": "scatter",
         "x": [
          0,
          1,
          2,
          3,
          4,
          5,
          6,
          7,
          8,
          9,
          10
         ],
         "y": [
          -3.1544580989144757,
          -0.9646759965960152,
          1.0974408809518783,
          3.0700390975772316,
          4.941255567334147,
          6.367275883428512,
          8.960701564414453,
          10.936559489576418,
          13.02726060165902,
          15.01454553555319,
          17.038104078254992
         ]
        },
        {
         "marker": {
          "color": "rgba(0.6,0.6,0.6,1.0)"
         },
         "mode": "lines",
         "name": "SVI median 4.53",
         "type": "scatter",
         "x": [
          0,
          1,
          2,
          3,
          4,
          5,
          6,
          7,
          8,
          9,
          10
         ],
         "y": [
          0.35331425070762634,
          0.98665951192379,
          1.378486528992653,
          1.8133880645036697,
          2.2869948744773865,
          2.66094870865345,
          3.012336164712906,
          3.648690089583397,
          4.176562488079071,
          4.58315272629261,
          5.0439740270376205
         ]
        },
        {
         "fillcolor": "rgba(0.6,0.6,0.6,0.5)",
         "line": {
          "color": "rgba(0.6,0.6,0.6,0.5)"
         },
         "mode": "lines",
         "name": "SVI upper conv interval",
         "type": "scatter",
         "x": [
          0,
          1,
          2,
          3,
          4,
          5,
          6,
          7,
          8,
          9,
          10
         ],
         "y": [
          [
           6.4162199735641465
          ],
          [
           7.339065439999103
          ],
          [
           8.704926070570945
          ],
          [
           11.019602745771403
          ],
          [
           13.825639462471004
          ],
          [
           16.325246268510814
          ],
          [
           19.145736455917355
          ],
          [
           21.641037380695337
          ],
          [
           23.97837347984314
          ],
          [
           26.84069349020718
          ],
          [
           29.673864032328122
          ]
         ]
        },
        {
         "fill": "tonexty",
         "fillcolor": "rgba(0.6,0.6,0.6,0.5)",
         "line": {
          "color": "rgba(0.6,0.6,0.6,0.5)"
         },
         "mode": "lines",
         "name": "SVI lower conv interval",
         "type": "scatter",
         "x": [
          0,
          1,
          2,
          3,
          4,
          5,
          6,
          7,
          8,
          9,
          10
         ],
         "y": [
          [
           -5.4781965732574465
          ],
          [
           -5.574414418637752
          ],
          [
           -6.804118597507477
          ],
          [
           -8.079844701290131
          ],
          [
           -9.830706663429737
          ],
          [
           -12.084951853752136
          ],
          [
           -13.922576010227203
          ],
          [
           -16.321761882305147
          ],
          [
           -18.913114583492277
          ],
          [
           -21.27017808556557
          ],
          [
           -23.70001214146614
          ]
         ]
        },
        {
         "fillcolor": "rgba(0.6,0.6,0.6,0.3)",
         "line": {
          "color": "rgba(0.6,0.6,0.6,0.3)"
         },
         "mode": "lines",
         "name": "SVI upper pred interval",
         "type": "scatter",
         "x": [
          0,
          1,
          2,
          3,
          4,
          5,
          6,
          7,
          8,
          9,
          10
         ],
         "y": [
          10.544886225791263,
          11.950036201491802,
          12.700512184261672,
          14.826368587099001,
          17.62671653801563,
          17.99374402434091,
          21.925301553623516,
          24.293194753827457,
          25.74818426625138,
          28.874854595807243,
          31.4015048539408
         ]
        },
        {
         "fill": "tonexty",
         "fillcolor": "rgba(0.6,0.6,0.6,0.3)",
         "line": {
          "color": "rgba(0.6,0.6,0.6,0.3)"
         },
         "mode": "lines",
         "name": "SVI lower pred interval",
         "type": "scatter",
         "x": [
          0,
          1,
          2,
          3,
          4,
          5,
          6,
          7,
          8,
          9,
          10
         ],
         "y": [
          -9.968866306501324,
          -10.394152023722716,
          -10.64431646563998,
          -11.561124532441426,
          -12.079371121706144,
          -14.990331116960423,
          -16.188971580941264,
          -19.14632298029724,
          -21.027716020915825,
          -22.60578423243812,
          -24.8832487314084
         ]
        }
       ],
       "layout": {
        "height": 600,
        "template": {
         "data": {
          "bar": [
           {
            "error_x": {
             "color": "#2a3f5f"
            },
            "error_y": {
             "color": "#2a3f5f"
            },
            "marker": {
             "line": {
              "color": "white",
              "width": 0.5
             }
            },
            "type": "bar"
           }
          ],
          "barpolar": [
           {
            "marker": {
             "line": {
              "color": "white",
              "width": 0.5
             }
            },
            "type": "barpolar"
           }
          ],
          "carpet": [
           {
            "aaxis": {
             "endlinecolor": "#2a3f5f",
             "gridcolor": "#C8D4E3",
             "linecolor": "#C8D4E3",
             "minorgridcolor": "#C8D4E3",
             "startlinecolor": "#2a3f5f"
            },
            "baxis": {
             "endlinecolor": "#2a3f5f",
             "gridcolor": "#C8D4E3",
             "linecolor": "#C8D4E3",
             "minorgridcolor": "#C8D4E3",
             "startlinecolor": "#2a3f5f"
            },
            "type": "carpet"
           }
          ],
          "choropleth": [
           {
            "colorbar": {
             "outlinewidth": 0,
             "ticks": ""
            },
            "type": "choropleth"
           }
          ],
          "contour": [
           {
            "colorbar": {
             "outlinewidth": 0,
             "ticks": ""
            },
            "colorscale": [
             [
              0,
              "#0d0887"
             ],
             [
              0.1111111111111111,
              "#46039f"
             ],
             [
              0.2222222222222222,
              "#7201a8"
             ],
             [
              0.3333333333333333,
              "#9c179e"
             ],
             [
              0.4444444444444444,
              "#bd3786"
             ],
             [
              0.5555555555555556,
              "#d8576b"
             ],
             [
              0.6666666666666666,
              "#ed7953"
             ],
             [
              0.7777777777777778,
              "#fb9f3a"
             ],
             [
              0.8888888888888888,
              "#fdca26"
             ],
             [
              1,
              "#f0f921"
             ]
            ],
            "type": "contour"
           }
          ],
          "contourcarpet": [
           {
            "colorbar": {
             "outlinewidth": 0,
             "ticks": ""
            },
            "type": "contourcarpet"
           }
          ],
          "heatmap": [
           {
            "colorbar": {
             "outlinewidth": 0,
             "ticks": ""
            },
            "colorscale": [
             [
              0,
              "#0d0887"
             ],
             [
              0.1111111111111111,
              "#46039f"
             ],
             [
              0.2222222222222222,
              "#7201a8"
             ],
             [
              0.3333333333333333,
              "#9c179e"
             ],
             [
              0.4444444444444444,
              "#bd3786"
             ],
             [
              0.5555555555555556,
              "#d8576b"
             ],
             [
              0.6666666666666666,
              "#ed7953"
             ],
             [
              0.7777777777777778,
              "#fb9f3a"
             ],
             [
              0.8888888888888888,
              "#fdca26"
             ],
             [
              1,
              "#f0f921"
             ]
            ],
            "type": "heatmap"
           }
          ],
          "heatmapgl": [
           {
            "colorbar": {
             "outlinewidth": 0,
             "ticks": ""
            },
            "colorscale": [
             [
              0,
              "#0d0887"
             ],
             [
              0.1111111111111111,
              "#46039f"
             ],
             [
              0.2222222222222222,
              "#7201a8"
             ],
             [
              0.3333333333333333,
              "#9c179e"
             ],
             [
              0.4444444444444444,
              "#bd3786"
             ],
             [
              0.5555555555555556,
              "#d8576b"
             ],
             [
              0.6666666666666666,
              "#ed7953"
             ],
             [
              0.7777777777777778,
              "#fb9f3a"
             ],
             [
              0.8888888888888888,
              "#fdca26"
             ],
             [
              1,
              "#f0f921"
             ]
            ],
            "type": "heatmapgl"
           }
          ],
          "histogram": [
           {
            "marker": {
             "colorbar": {
              "outlinewidth": 0,
              "ticks": ""
             }
            },
            "type": "histogram"
           }
          ],
          "histogram2d": [
           {
            "colorbar": {
             "outlinewidth": 0,
             "ticks": ""
            },
            "colorscale": [
             [
              0,
              "#0d0887"
             ],
             [
              0.1111111111111111,
              "#46039f"
             ],
             [
              0.2222222222222222,
              "#7201a8"
             ],
             [
              0.3333333333333333,
              "#9c179e"
             ],
             [
              0.4444444444444444,
              "#bd3786"
             ],
             [
              0.5555555555555556,
              "#d8576b"
             ],
             [
              0.6666666666666666,
              "#ed7953"
             ],
             [
              0.7777777777777778,
              "#fb9f3a"
             ],
             [
              0.8888888888888888,
              "#fdca26"
             ],
             [
              1,
              "#f0f921"
             ]
            ],
            "type": "histogram2d"
           }
          ],
          "histogram2dcontour": [
           {
            "colorbar": {
             "outlinewidth": 0,
             "ticks": ""
            },
            "colorscale": [
             [
              0,
              "#0d0887"
             ],
             [
              0.1111111111111111,
              "#46039f"
             ],
             [
              0.2222222222222222,
              "#7201a8"
             ],
             [
              0.3333333333333333,
              "#9c179e"
             ],
             [
              0.4444444444444444,
              "#bd3786"
             ],
             [
              0.5555555555555556,
              "#d8576b"
             ],
             [
              0.6666666666666666,
              "#ed7953"
             ],
             [
              0.7777777777777778,
              "#fb9f3a"
             ],
             [
              0.8888888888888888,
              "#fdca26"
             ],
             [
              1,
              "#f0f921"
             ]
            ],
            "type": "histogram2dcontour"
           }
          ],
          "mesh3d": [
           {
            "colorbar": {
             "outlinewidth": 0,
             "ticks": ""
            },
            "type": "mesh3d"
           }
          ],
          "parcoords": [
           {
            "line": {
             "colorbar": {
              "outlinewidth": 0,
              "ticks": ""
             }
            },
            "type": "parcoords"
           }
          ],
          "pie": [
           {
            "automargin": true,
            "type": "pie"
           }
          ],
          "scatter": [
           {
            "marker": {
             "colorbar": {
              "outlinewidth": 0,
              "ticks": ""
             }
            },
            "type": "scatter"
           }
          ],
          "scatter3d": [
           {
            "line": {
             "colorbar": {
              "outlinewidth": 0,
              "ticks": ""
             }
            },
            "marker": {
             "colorbar": {
              "outlinewidth": 0,
              "ticks": ""
             }
            },
            "type": "scatter3d"
           }
          ],
          "scattercarpet": [
           {
            "marker": {
             "colorbar": {
              "outlinewidth": 0,
              "ticks": ""
             }
            },
            "type": "scattercarpet"
           }
          ],
          "scattergeo": [
           {
            "marker": {
             "colorbar": {
              "outlinewidth": 0,
              "ticks": ""
             }
            },
            "type": "scattergeo"
           }
          ],
          "scattergl": [
           {
            "marker": {
             "colorbar": {
              "outlinewidth": 0,
              "ticks": ""
             }
            },
            "type": "scattergl"
           }
          ],
          "scattermapbox": [
           {
            "marker": {
             "colorbar": {
              "outlinewidth": 0,
              "ticks": ""
             }
            },
            "type": "scattermapbox"
           }
          ],
          "scatterpolar": [
           {
            "marker": {
             "colorbar": {
              "outlinewidth": 0,
              "ticks": ""
             }
            },
            "type": "scatterpolar"
           }
          ],
          "scatterpolargl": [
           {
            "marker": {
             "colorbar": {
              "outlinewidth": 0,
              "ticks": ""
             }
            },
            "type": "scatterpolargl"
           }
          ],
          "scatterternary": [
           {
            "marker": {
             "colorbar": {
              "outlinewidth": 0,
              "ticks": ""
             }
            },
            "type": "scatterternary"
           }
          ],
          "surface": [
           {
            "colorbar": {
             "outlinewidth": 0,
             "ticks": ""
            },
            "colorscale": [
             [
              0,
              "#0d0887"
             ],
             [
              0.1111111111111111,
              "#46039f"
             ],
             [
              0.2222222222222222,
              "#7201a8"
             ],
             [
              0.3333333333333333,
              "#9c179e"
             ],
             [
              0.4444444444444444,
              "#bd3786"
             ],
             [
              0.5555555555555556,
              "#d8576b"
             ],
             [
              0.6666666666666666,
              "#ed7953"
             ],
             [
              0.7777777777777778,
              "#fb9f3a"
             ],
             [
              0.8888888888888888,
              "#fdca26"
             ],
             [
              1,
              "#f0f921"
             ]
            ],
            "type": "surface"
           }
          ],
          "table": [
           {
            "cells": {
             "fill": {
              "color": "#EBF0F8"
             },
             "line": {
              "color": "white"
             }
            },
            "header": {
             "fill": {
              "color": "#C8D4E3"
             },
             "line": {
              "color": "white"
             }
            },
            "type": "table"
           }
          ]
         },
         "layout": {
          "annotationdefaults": {
           "arrowcolor": "#2a3f5f",
           "arrowhead": 0,
           "arrowwidth": 1
          },
          "coloraxis": {
           "colorbar": {
            "outlinewidth": 0,
            "ticks": ""
           }
          },
          "colorscale": {
           "diverging": [
            [
             0,
             "#8e0152"
            ],
            [
             0.1,
             "#c51b7d"
            ],
            [
             0.2,
             "#de77ae"
            ],
            [
             0.3,
             "#f1b6da"
            ],
            [
             0.4,
             "#fde0ef"
            ],
            [
             0.5,
             "#f7f7f7"
            ],
            [
             0.6,
             "#e6f5d0"
            ],
            [
             0.7,
             "#b8e186"
            ],
            [
             0.8,
             "#7fbc41"
            ],
            [
             0.9,
             "#4d9221"
            ],
            [
             1,
             "#276419"
            ]
           ],
           "sequential": [
            [
             0,
             "#0d0887"
            ],
            [
             0.1111111111111111,
             "#46039f"
            ],
            [
             0.2222222222222222,
             "#7201a8"
            ],
            [
             0.3333333333333333,
             "#9c179e"
            ],
            [
             0.4444444444444444,
             "#bd3786"
            ],
            [
             0.5555555555555556,
             "#d8576b"
            ],
            [
             0.6666666666666666,
             "#ed7953"
            ],
            [
             0.7777777777777778,
             "#fb9f3a"
            ],
            [
             0.8888888888888888,
             "#fdca26"
            ],
            [
             1,
             "#f0f921"
            ]
           ],
           "sequentialminus": [
            [
             0,
             "#0d0887"
            ],
            [
             0.1111111111111111,
             "#46039f"
            ],
            [
             0.2222222222222222,
             "#7201a8"
            ],
            [
             0.3333333333333333,
             "#9c179e"
            ],
            [
             0.4444444444444444,
             "#bd3786"
            ],
            [
             0.5555555555555556,
             "#d8576b"
            ],
            [
             0.6666666666666666,
             "#ed7953"
            ],
            [
             0.7777777777777778,
             "#fb9f3a"
            ],
            [
             0.8888888888888888,
             "#fdca26"
            ],
            [
             1,
             "#f0f921"
            ]
           ]
          },
          "colorway": [
           "#636efa",
           "#EF553B",
           "#00cc96",
           "#ab63fa",
           "#FFA15A",
           "#19d3f3",
           "#FF6692",
           "#B6E880",
           "#FF97FF",
           "#FECB52"
          ],
          "font": {
           "color": "#2a3f5f"
          },
          "geo": {
           "bgcolor": "white",
           "lakecolor": "white",
           "landcolor": "white",
           "showlakes": true,
           "showland": true,
           "subunitcolor": "#C8D4E3"
          },
          "hoverlabel": {
           "align": "left"
          },
          "hovermode": "closest",
          "mapbox": {
           "style": "light"
          },
          "paper_bgcolor": "white",
          "plot_bgcolor": "white",
          "polar": {
           "angularaxis": {
            "gridcolor": "#EBF0F8",
            "linecolor": "#EBF0F8",
            "ticks": ""
           },
           "bgcolor": "white",
           "radialaxis": {
            "gridcolor": "#EBF0F8",
            "linecolor": "#EBF0F8",
            "ticks": ""
           }
          },
          "scene": {
           "xaxis": {
            "backgroundcolor": "white",
            "gridcolor": "#DFE8F3",
            "gridwidth": 2,
            "linecolor": "#EBF0F8",
            "showbackground": true,
            "ticks": "",
            "zerolinecolor": "#EBF0F8"
           },
           "yaxis": {
            "backgroundcolor": "white",
            "gridcolor": "#DFE8F3",
            "gridwidth": 2,
            "linecolor": "#EBF0F8",
            "showbackground": true,
            "ticks": "",
            "zerolinecolor": "#EBF0F8"
           },
           "zaxis": {
            "backgroundcolor": "white",
            "gridcolor": "#DFE8F3",
            "gridwidth": 2,
            "linecolor": "#EBF0F8",
            "showbackground": true,
            "ticks": "",
            "zerolinecolor": "#EBF0F8"
           }
          },
          "shapedefaults": {
           "line": {
            "color": "#2a3f5f"
           }
          },
          "ternary": {
           "aaxis": {
            "gridcolor": "#DFE8F3",
            "linecolor": "#A2B1C6",
            "ticks": ""
           },
           "baxis": {
            "gridcolor": "#DFE8F3",
            "linecolor": "#A2B1C6",
            "ticks": ""
           },
           "bgcolor": "white",
           "caxis": {
            "gridcolor": "#DFE8F3",
            "linecolor": "#A2B1C6",
            "ticks": ""
           }
          },
          "title": {
           "x": 0.05
          },
          "xaxis": {
           "automargin": true,
           "gridcolor": "#EBF0F8",
           "linecolor": "#EBF0F8",
           "ticks": "",
           "title": {
            "standoff": 15
           },
           "zerolinecolor": "#EBF0F8",
           "zerolinewidth": 2
          },
          "yaxis": {
           "automargin": true,
           "gridcolor": "#EBF0F8",
           "linecolor": "#EBF0F8",
           "ticks": "",
           "title": {
            "standoff": 15
           },
           "zerolinecolor": "#EBF0F8",
           "zerolinewidth": 2
          }
         }
        },
        "title": {
         "text": "Comparison of model predictions"
        },
        "width": 800
       }
      }
     },
     "metadata": {}
    }
   ],
   "source": [
    "# Display Results\n",
    "\n",
    "import matplotlib.pyplot as plt\n",
    "\n",
    "fig = go.Figure()\n",
    "\n",
    "# Add Function to Predict\n",
    "fig.add_trace(go.Scatter(x=X.flatten(), y=y.flatten(),\n",
    "                    mode='markers',\n",
    "                    name='Function to Predict', marker_color='black')), \n",
    "\n",
    "# Add predictions of fitted models\n",
    "\n",
    "colors=plt.cm.Set1(np.linspace(0, 1, len(results_dict)))\n",
    "for i, model in enumerate(results_dict):\n",
    "\n",
    "\n",
    "    color=f\"rgba({colors[i][0]},{colors[i][1]},{colors[i][2]},{colors[i][3]})\"\n",
    "    color_fill_conv=f\"rgba({colors[i][0]},{colors[i][1]},{colors[i][2]},{0.5})\"\n",
    "    color_fill_pred=f\"rgba({colors[i][0]},{colors[i][1]},{colors[i][2]},{0.3})\"\n",
    "\n",
    "    X_pred=results_dict[model]['X_pred']\n",
    "    y_conv=results_dict[model]['y_conv']\n",
    "    y_conv_lower=results_dict[model]['y_conv']-results_dict[model]['y_std_conv'][:,0].reshape(-1,1)\n",
    "    y_conv_upper=results_dict[model]['y_conv']+results_dict[model]['y_std_conv'][:,1].reshape(-1,1)\n",
    "\n",
    "    y_pred=results_dict[model]['y_pred']\n",
    "    y_pred_lower=results_dict[model]['y_pred']-results_dict[model]['y_std_pred'][:,0].reshape(-1,1)\n",
    "    y_pred_upper=results_dict[model]['y_pred']+results_dict[model]['y_std_pred'][:,1].reshape(-1,1)\n",
    "\n",
    "\n",
    "    elapsed_time=results_dict[model]['elapsed time']\n",
    "\n",
    "    # median\n",
    "    fig.add_trace(go.Scatter(x=X_pred.flatten(), y=y_conv.flatten(),\n",
    "                    mode='lines',\n",
    "                    name=f'{model} median {elapsed_time}', marker_color=color))\n",
    "    # convidence intervals\n",
    "\n",
    "    fig.add_trace(go.Scatter(x=X_pred,y=y_conv_upper,mode='lines',name=f'{model} upper conv interval',fill=None, fillcolor=color_fill_conv, line_color=color_fill_conv))\n",
    "    fig.add_trace(go.Scatter(x=X_pred,y=y_conv_lower,mode='lines',name=f'{model} lower conv interval',fill='tonexty',fillcolor=color_fill_conv, line_color=color_fill_conv))\n",
    "    # prediction intervals\n",
    "\n",
    "    fig.add_trace(go.Scatter(x=X_pred,y=y_pred_upper.flatten(),mode='lines',name=f'{model} upper pred interval',fill=None, fillcolor=color_fill_pred, line_color=color_fill_pred))\n",
    "    fig.add_trace(go.Scatter(x=X_pred,y=y_pred_lower.flatten(),mode='lines',name=f'{model} lower pred interval',fill='tonexty',fillcolor=color_fill_pred, line_color=color_fill_pred))\n",
    "\n",
    "\n",
    "\n",
    "fig.update_layout(title='Comparison of model predictions',\n",
    "                  height=600,\n",
    "                  width=800,\n",
    "                  template=\"plotly_white\")\n",
    "fig.show()"
   ]
  },
  {
   "cell_type": "code",
   "execution_count": null,
   "metadata": {},
   "outputs": [],
   "source": []
  }
 ]
}